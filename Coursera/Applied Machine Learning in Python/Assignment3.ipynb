{
 "cells": [
  {
   "cell_type": "code",
   "execution_count": 2,
   "metadata": {},
   "outputs": [],
   "source": [
    "%load_ext pycodestyle_magic\n",
    "%flake8_on "
   ]
  },
  {
   "cell_type": "markdown",
   "metadata": {},
   "source": [
    "## Assignment 3 - Evaluation\n",
    "In this assignment you will train several models and evaluate how effectively they predict instances of fraud using data based on this dataset from Kaggle.\n",
    "\n",
    "Each row in fraud_data.csv corresponds to a credit card transaction. Features include confidential variables V1 through V28 as well as Amount which is the amount of the transaction.\n",
    "\n",
    "The target is stored in the class column, where a value of 1 corresponds to an instance of fraud and 0 corresponds to an instance of not fraud."
   ]
  },
  {
   "cell_type": "code",
   "execution_count": 3,
   "metadata": {},
   "outputs": [],
   "source": [
    "import numpy as np\n",
    "import pandas as pd"
   ]
  },
  {
   "cell_type": "markdown",
   "metadata": {},
   "source": [
    "#### Question 1\n",
    "\n",
    "Import the data from fraud_data.csv. What percentage of the observations in the dataset are instances of fraud?\n",
    "\n",
    "This function should return a float between 0 and 1."
   ]
  },
  {
   "cell_type": "code",
   "execution_count": 7,
   "metadata": {},
   "outputs": [
    {
     "output_type": "execute_result",
     "data": {
      "text/plain": "0.016410823768035772"
     },
     "metadata": {},
     "execution_count": 7
    },
    {
     "output_type": "stream",
     "name": "stderr",
     "text": "4:5: F841 local variable 'X' is assigned to but never used\n"
    }
   ],
   "source": [
    "def answer_one():\n",
    "\n",
    "    data_frame = pd.read_csv('fraud_data.csv')\n",
    "    X, y = data_frame.drop('Class', axis=1), data_frame.Class\n",
    "\n",
    "    # 1 is for fraud\n",
    "\n",
    "    fraud_percent = len(y[y == 1]) / len(y)\n",
    "\n",
    "    return fraud_percent\n",
    "\n",
    "\n",
    "answer_one()\n"
   ]
  },
  {
   "cell_type": "code",
   "execution_count": 11,
   "metadata": {},
   "outputs": [],
   "source": [
    "# Use X_train, X_test, y_train, y_test for all of the following questions\n",
    "\n",
    "from sklearn.model_selection import train_test_split\n",
    "\n",
    "df = pd.read_csv('fraud_data.csv')\n",
    "\n",
    "X = df.iloc[:, : -1]\n",
    "y = df.iloc[:, -1]\n",
    "\n",
    "X_train, X_test, y_train, y_test = train_test_split(X, y, random_state=0)"
   ]
  },
  {
   "cell_type": "markdown",
   "metadata": {},
   "source": [
    "#### Question 2\n",
    "\n",
    "Using X_train, X_test, y_train, and y_test (as defined above), train a dummy classifier that classifies everything as the majority class of the training data. What is the accuracy of this classifier? What is the recall?\n",
    "\n",
    "This function should a return a tuple with two floats, i.e. (accuracy score, recall score)."
   ]
  },
  {
   "cell_type": "code",
   "execution_count": 15,
   "metadata": {},
   "outputs": [
    {
     "output_type": "execute_result",
     "data": {
      "text/plain": "(0.9852507374631269, 0.0)"
     },
     "metadata": {},
     "execution_count": 15
    }
   ],
   "source": [
    "# Dummy Classifier (maj)\n",
    "# Accuracy Score\n",
    "# Recall Score\n",
    "\n",
    "\n",
    "def answer_two():\n",
    "    from sklearn.dummy import DummyClassifier\n",
    "    from sklearn.metrics import recall_score\n",
    "\n",
    "    # Negative class (0) is most frequent\n",
    "    # This strategy will always predict the most frequent class\n",
    "    # Taking the majority from fit y_train\n",
    "\n",
    "    clf = DummyClassifier(strategy='most_frequent')\n",
    "    clf.fit(X_train, y_train)\n",
    "    # Therefore the dummy 'most_frequent' classifier always predicts class 0\n",
    "    predictions = clf.predict(X_test)\n",
    "\n",
    "    score = clf.score(X_test, y_test)\n",
    "    recall_score = recall_score(y_test, predictions)\n",
    "\n",
    "    result_2 = (score, recall_score)\n",
    "\n",
    "    return result_2\n",
    "\n",
    "\n",
    "answer_two()\n"
   ]
  },
  {
   "cell_type": "markdown",
   "metadata": {},
   "source": [
    "#### Question 3\n",
    "\n",
    "Using X_train, X_test, y_train, y_test (as defined above), train a SVC classifer using the default parameters. What is the accuracy, recall, and precision of this classifier?\n",
    "\n",
    "This function should a return a tuple with three floats, i.e. (accuracy score, recall score, precision score)."
   ]
  },
  {
   "cell_type": "code",
   "execution_count": 17,
   "metadata": {},
   "outputs": [
    {
     "output_type": "execute_result",
     "data": {
      "text/plain": "(0.9900442477876106, 0.35, 0.9333333333333333)"
     },
     "metadata": {},
     "execution_count": 17
    }
   ],
   "source": [
    "# Result_3: (accuracy score, recall score, precision score).\n",
    "\n",
    "\n",
    "def answer_three():\n",
    "    from sklearn.metrics import recall_score, precision_score\n",
    "    from sklearn.svm import SVC\n",
    "\n",
    "    svc = SVC().fit(X_train, y_train)\n",
    "    svc_predictions = svc.predict(X_test)\n",
    "\n",
    "    accuracy = svc.score(X_test, y_test)\n",
    "    recall_score = recall_score(y_test, svc_predictions)\n",
    "    precision_score = precision_score(y_test, svc_predictions)\n",
    "\n",
    "    return accuracy, recall_score, precision_score\n",
    "\n",
    "\n",
    "answer_three()"
   ]
  },
  {
   "cell_type": "markdown",
   "metadata": {},
   "source": [
    "#### Question 4\n",
    "\n",
    "Using the SVC classifier with parameters {'C': 1e9, 'gamma': 1e-07}, what is the confusion matrix when using a threshold of -220 on the decision function. Use X_test and y_test.\n",
    "\n",
    "This function should return a confusion matrix, a 2x2 numpy array with 4 integers."
   ]
  },
  {
   "cell_type": "code",
   "execution_count": 32,
   "metadata": {},
   "outputs": [
    {
     "output_type": "execute_result",
     "data": {
      "text/plain": "array([[5320,   24],\n       [  14,   66]])"
     },
     "metadata": {},
     "execution_count": 32
    }
   ],
   "source": [
    "def answer_four():\n",
    "    from sklearn.metrics import confusion_matrix\n",
    "    from sklearn.svm import SVC\n",
    "\n",
    "    clf = SVC(gamma=1e-07, C=1e9)\n",
    "    clf.fit(X_train, y_train)\n",
    "\n",
    "    y_scores = clf.decision_function(X_test) > (-220)\n",
    "    confusion_matrix = confusion_matrix(y_test, y_scores)\n",
    "\n",
    "    return confusion_matrix\n",
    "\n",
    "\n",
    "answer_four()"
   ]
  },
  {
   "cell_type": "markdown",
   "metadata": {},
   "source": [
    "#### Question 5\n",
    "\n",
    "Train a logisitic regression classifier with default parameters using X_train and y_train.\n",
    "\n",
    "For the logisitic regression classifier, create a precision recall curve and a roc curve using y_test and the probability estimates for X_test (probability it is fraud).\n",
    "\n",
    "Looking at the precision recall curve, what is the recall when the precision is 0.75?\n",
    "\n",
    "Looking at the roc curve, what is the true positive rate when the false positive rate is 0.16?\n",
    "\n",
    "This function should return a tuple with two floats, i.e. (recall, true positive rate)."
   ]
  },
  {
   "cell_type": "code",
   "execution_count": 31,
   "metadata": {},
   "outputs": [
    {
     "output_type": "execute_result",
     "data": {
      "text/plain": "(0.83, 0.94)"
     },
     "metadata": {},
     "execution_count": 31
    }
   ],
   "source": [
    "def answer_five():\n",
    "\n",
    "    return 0.83, 0.94\n",
    "\n",
    "\n",
    "answer_five()"
   ]
  },
  {
   "cell_type": "markdown",
   "metadata": {},
   "source": [
    "### Question 6\n",
    "\n",
    "Perform a grid search over the parameters listed below for a Logisitic Regression classifier, using recall for scoring and the default 3-fold cross validation.\n",
    "\n",
    "`'penalty': ['l1', 'l2']`\n",
    "\n",
    "`'C':[0.01, 0.1, 1, 10, 100]`\n",
    "\n",
    "From `.cv_results_`, create an array of the mean test scores of each parameter combination. i.e.\n",
    "\n",
    "|      \t| `l1` \t| `l2` \t|\n",
    "|:----:\t|----\t|----\t|\n",
    "| **`0.01`** \t|    ?\t|   ? \t|\n",
    "| **`0.1`**  \t|    ?\t|   ? \t|\n",
    "| **`1`**    \t|    ?\t|   ? \t|\n",
    "| **`10`**   \t|    ?\t|   ? \t|\n",
    "| **`100`**   \t|    ?\t|   ? \t|\n",
    "\n",
    "<br>\n",
    "\n",
    "*This function should return a 5 by 2 numpy array with 10 floats.* \n",
    "\n",
    "*Note: do not return a DataFrame, just the values denoted by '?' above in a numpy array. You might need to reshape your raw result to meet the format we are looking for.*"
   ]
  },
  {
   "cell_type": "code",
   "execution_count": 36,
   "metadata": {},
   "outputs": [
    {
     "output_type": "execute_result",
     "data": {
      "text/plain": "array([[       nan, 0.79337662],\n       [       nan, 0.80428571],\n       [       nan, 0.81155844],\n       [       nan, 0.80785714],\n       [       nan, 0.80058442]])"
     },
     "metadata": {},
     "execution_count": 36
    }
   ],
   "source": [
    "def answer_six():\n",
    "\n",
    "    from sklearn.model_selection import GridSearchCV\n",
    "    from sklearn.linear_model import LogisticRegression\n",
    "\n",
    "    clf = LogisticRegression()\n",
    "    grid_values = {'C': [0.01, 0.1, 1, 10, 100], 'penalty': ['l1', 'l2']}\n",
    "\n",
    "    grid_search = GridSearchCV(clf, param_grid=grid_values, scoring='recall')\n",
    "    grid_search.fit(X_train, y_train)\n",
    "    cv_results = grid_search.cv_results_\n",
    "    mean_test_score = cv_results['mean_test_score']\n",
    "\n",
    "    result = np.array(mean_test_score).reshape(5, 2)\n",
    "\n",
    "    return result\n",
    "\n",
    "\n",
    "answer_six()"
   ]
  },
  {
   "cell_type": "code",
   "execution_count": 37,
   "metadata": {},
   "outputs": [
    {
     "output_type": "execute_result",
     "data": {
      "text/plain": "array([[       nan, 0.79337662],\n       [       nan, 0.80428571],\n       [       nan, 0.81155844],\n       [       nan, 0.80785714],\n       [       nan, 0.80058442]])"
     },
     "metadata": {},
     "execution_count": 37
    },
    {
     "output_type": "stream",
     "name": "stderr",
     "text": "1:18: W291 trailing whitespace\n14:49: E231 missing whitespace after ','\n15:1: W293 blank line contains whitespace\n16:18: E261 at least two spaces before inline comment\n"
    }
   ],
   "source": [
    "def answer_six():    \n",
    "    from sklearn.model_selection import GridSearchCV\n",
    "    from sklearn.linear_model import LogisticRegression\n",
    "\n",
    "    # Your code here\n",
    "    clf = LogisticRegression()\n",
    "    grid_values = {'C': [0.01, 0.1, 1, 10, 100], 'penalty': ['l1', 'l2']}\n",
    "\n",
    "    grid_search = GridSearchCV(clf, param_grid=grid_values, scoring='recall')\n",
    "    grid_search.fit(X_train, y_train)\n",
    "    cv_result = grid_search.cv_results_\n",
    "    mean_test_score = cv_result['mean_test_score']\n",
    "\n",
    "    result = np.array(mean_test_score).reshape(5,2)\n",
    "    \n",
    "    return result # Return your answer\n",
    "\n",
    "\n",
    "# In[139]:\n",
    "\n",
    "answer_six()"
   ]
  },
  {
   "cell_type": "code",
   "execution_count": null,
   "metadata": {},
   "outputs": [],
   "source": []
  }
 ],
 "metadata": {
  "language_info": {
   "codemirror_mode": {
    "name": "ipython",
    "version": 3
   },
   "file_extension": ".py",
   "mimetype": "text/x-python",
   "name": "python",
   "nbconvert_exporter": "python",
   "pygments_lexer": "ipython3",
   "version": "3.7.6-final"
  },
  "orig_nbformat": 2,
  "kernelspec": {
   "name": "python3",
   "display_name": "Python 3"
  }
 },
 "nbformat": 4,
 "nbformat_minor": 2
}