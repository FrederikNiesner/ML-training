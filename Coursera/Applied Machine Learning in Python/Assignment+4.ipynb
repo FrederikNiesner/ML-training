{
 "cells": [
  {
   "cell_type": "code",
   "execution_count": 1,
   "metadata": {},
   "outputs": [],
   "source": [
    "import pandas as pd\n",
    "import numpy as np\n",
    "import datetime as datetime\n",
    "\n"
   ]
  },
  {
   "cell_type": "code",
   "execution_count": 2,
   "metadata": {},
   "outputs": [],
   "source": [
    "# Load train and test data\n",
    "train_data = pd.read_csv('train.csv', encoding = 'ISO-8859-1')\n",
    "test_data = pd.read_csv('test.csv')"
   ]
  },
  {
   "cell_type": "code",
   "execution_count": 9,
   "metadata": {},
   "outputs": [],
   "source": [
    "# Filter NULL values from compliance rows\n",
    "train_data = train_data[(train_data['compliance'] == 0) | (train_data['compliance'] == 1)]\n",
    "address = pd.read_csv('addresses.csv')"
   ]
  },
  {
   "cell_type": "code",
   "execution_count": 10,
   "metadata": {},
   "outputs": [],
   "source": [
    "# Load addresses and location information\n",
    "latlons = pd.read_csv('latlons.csv')\n",
    "address = address.set_index('address').join(latlons.set_index('address'), how='left')\n"
   ]
  },
  {
   "cell_type": "code",
   "execution_count": 11,
   "metadata": {},
   "outputs": [],
   "source": [
    "# Join address and location to train and test data\n",
    "train_data = train_data.set_index('ticket_id').join(address.set_index('ticket_id'))\n",
    "test_data = test_data.set_index('ticket_id').join(address.set_index('ticket_id'))"
   ]
  },
  {
   "cell_type": "code",
   "execution_count": 12,
   "metadata": {},
   "outputs": [],
   "source": [
    "# Filter null valued hearing date rows\n",
    "train_data = train_data[~train_data['hearing_date'].isnull()]\n"
   ]
  },
  {
   "cell_type": "code",
   "execution_count": 13,
   "metadata": {},
   "outputs": [],
   "source": [
    "# Remove Non Existing Features In Test Data\n",
    "train_remove_list = [\n",
    "        'balance_due',\n",
    "        'collection_status',\n",
    "        'compliance_detail',\n",
    "        'payment_amount',\n",
    "        'payment_date',\n",
    "        'payment_status'\n",
    "    ]\n",
    "train_data.drop(train_remove_list, axis=1, inplace=True)"
   ]
  },
  {
   "cell_type": "code",
   "execution_count": 15,
   "metadata": {},
   "outputs": [],
   "source": [
    "# Remove String Data\n",
    "string_remove_list = ['violator_name', 'zip_code', 'country', 'city',\n",
    "        'inspector_name', 'violation_street_number', 'violation_street_name',\n",
    "        'violation_zip_code', 'violation_description',\n",
    "        'mailing_address_str_number', 'mailing_address_str_name',\n",
    "        'non_us_str_code', 'agency_name', 'state', 'disposition',\n",
    "        'ticket_issued_date', 'hearing_date', 'grafitti_status', 'violation_code'\n",
    "    ]\n",
    "\n",
    "train_data.drop(string_remove_list, axis=1, inplace=True)\n",
    "test_data.drop(string_remove_list, axis=1, inplace=True)"
   ]
  },
  {
   "cell_type": "code",
   "execution_count": 16,
   "metadata": {},
   "outputs": [
    {
     "output_type": "execute_result",
     "data": {
      "text/plain": "           fine_amount  admin_fee  state_fee  late_fee  discount_amount  \\\nticket_id                                                                 \n22056            250.0       20.0       10.0      25.0              0.0   \n27586            750.0       20.0       10.0      75.0              0.0   \n22046            250.0       20.0       10.0      25.0              0.0   \n18738            750.0       20.0       10.0      75.0              0.0   \n18735            100.0       20.0       10.0      10.0              0.0   \n\n           clean_up_cost  judgment_amount  compliance        lat        lon  \nticket_id                                                                    \n22056                0.0            305.0         0.0  42.390729 -83.124268  \n27586                0.0            855.0         1.0  42.326937 -83.135118  \n22046                0.0            305.0         0.0  42.145257 -83.208233  \n18738                0.0            855.0         0.0  42.433466 -83.023493  \n18735                0.0            140.0         0.0  42.388641 -83.037858  ",
      "text/html": "<div>\n<style scoped>\n    .dataframe tbody tr th:only-of-type {\n        vertical-align: middle;\n    }\n\n    .dataframe tbody tr th {\n        vertical-align: top;\n    }\n\n    .dataframe thead th {\n        text-align: right;\n    }\n</style>\n<table border=\"1\" class=\"dataframe\">\n  <thead>\n    <tr style=\"text-align: right;\">\n      <th></th>\n      <th>fine_amount</th>\n      <th>admin_fee</th>\n      <th>state_fee</th>\n      <th>late_fee</th>\n      <th>discount_amount</th>\n      <th>clean_up_cost</th>\n      <th>judgment_amount</th>\n      <th>compliance</th>\n      <th>lat</th>\n      <th>lon</th>\n    </tr>\n    <tr>\n      <th>ticket_id</th>\n      <th></th>\n      <th></th>\n      <th></th>\n      <th></th>\n      <th></th>\n      <th></th>\n      <th></th>\n      <th></th>\n      <th></th>\n      <th></th>\n    </tr>\n  </thead>\n  <tbody>\n    <tr>\n      <th>22056</th>\n      <td>250.0</td>\n      <td>20.0</td>\n      <td>10.0</td>\n      <td>25.0</td>\n      <td>0.0</td>\n      <td>0.0</td>\n      <td>305.0</td>\n      <td>0.0</td>\n      <td>42.390729</td>\n      <td>-83.124268</td>\n    </tr>\n    <tr>\n      <th>27586</th>\n      <td>750.0</td>\n      <td>20.0</td>\n      <td>10.0</td>\n      <td>75.0</td>\n      <td>0.0</td>\n      <td>0.0</td>\n      <td>855.0</td>\n      <td>1.0</td>\n      <td>42.326937</td>\n      <td>-83.135118</td>\n    </tr>\n    <tr>\n      <th>22046</th>\n      <td>250.0</td>\n      <td>20.0</td>\n      <td>10.0</td>\n      <td>25.0</td>\n      <td>0.0</td>\n      <td>0.0</td>\n      <td>305.0</td>\n      <td>0.0</td>\n      <td>42.145257</td>\n      <td>-83.208233</td>\n    </tr>\n    <tr>\n      <th>18738</th>\n      <td>750.0</td>\n      <td>20.0</td>\n      <td>10.0</td>\n      <td>75.0</td>\n      <td>0.0</td>\n      <td>0.0</td>\n      <td>855.0</td>\n      <td>0.0</td>\n      <td>42.433466</td>\n      <td>-83.023493</td>\n    </tr>\n    <tr>\n      <th>18735</th>\n      <td>100.0</td>\n      <td>20.0</td>\n      <td>10.0</td>\n      <td>10.0</td>\n      <td>0.0</td>\n      <td>0.0</td>\n      <td>140.0</td>\n      <td>0.0</td>\n      <td>42.388641</td>\n      <td>-83.037858</td>\n    </tr>\n  </tbody>\n</table>\n</div>"
     },
     "metadata": {},
     "execution_count": 16
    }
   ],
   "source": [
    "train_data.head()"
   ]
  },
  {
   "cell_type": "code",
   "execution_count": 17,
   "metadata": {},
   "outputs": [],
   "source": [
    "# Fill NA Lat Lon Values\n",
    "train_data.lat.fillna(method='pad', inplace=True)\n",
    "train_data.lon.fillna(method='pad', inplace=True)\n",
    "test_data.lat.fillna(method='pad', inplace=True)\n",
    "test_data.lon.fillna(method='pad', inplace=True)\n"
   ]
  },
  {
   "cell_type": "code",
   "execution_count": 18,
   "metadata": {},
   "outputs": [],
   "source": [
    "# Select target value as y train and remove it from x train\n",
    "y_train = train_data.compliance\n",
    "X_train = train_data.drop('compliance', axis=1)"
   ]
  },
  {
   "cell_type": "code",
   "execution_count": 19,
   "metadata": {},
   "outputs": [],
   "source": [
    "# Do nothing with test data and select as x test, we don't have y_test\n",
    "X_test = test_data"
   ]
  },
  {
   "cell_type": "code",
   "execution_count": 22,
   "metadata": {},
   "outputs": [],
   "source": [
    "from sklearn.neural_network import MLPClassifier\n",
    "from sklearn.preprocessing import MinMaxScaler\n",
    "# Scale Features To Reduce Computation Time\n",
    "scaler = MinMaxScaler()\n",
    "X_train_scaled = scaler.fit_transform(X_train)\n",
    "X_test_scaled = scaler.transform(X_test)\n",
    "    \n",
    "# Build And Train Classifier Model\n",
    "clf = MLPClassifier(hidden_layer_sizes = [10, 10],\n",
    "                        alpha=0.01,\n",
    "                        random_state = 0, \n",
    "                        solver='lbfgs', \n",
    "                        verbose=0)\n",
    "clf.fit(X_train_scaled, y_train)\n",
    "test_proba = clf.predict_proba(X_test_scaled)\n",
    "result = test_proba[:,1]\n"
   ]
  },
  {
   "cell_type": "code",
   "execution_count": 23,
   "metadata": {},
   "outputs": [
    {
     "output_type": "stream",
     "name": "stdout",
     "text": "Grid best parameter (max. AUC):  {'alpha': 0.001, 'hidden_layer_sizes': [150, 10]}\nGrid best score (AUC):  0.7398522513099535\n"
    }
   ],
   "source": [
    "from sklearn.model_selection import GridSearchCV\n",
    "from sklearn.metrics import roc_auc_score\n",
    "\n",
    "# Grid Search For Finding Optimal Values\n",
    "\n",
    "grid_values = {'alpha': [0.001], 'hidden_layer_sizes': [[100, 10], [150, 10]]}\n",
    "grid_clf_auc = GridSearchCV(clf, param_grid = grid_values, scoring = 'roc_auc')\n",
    "grid_clf_auc.fit(X_train_scaled, y_train)\n",
    "print('Grid best parameter (max. AUC): ', grid_clf_auc.best_params_)\n",
    "print('Grid best score (AUC): ', grid_clf_auc.best_score_)"
   ]
  },
  {
   "cell_type": "code",
   "execution_count": 24,
   "metadata": {},
   "outputs": [
    {
     "output_type": "stream",
     "name": "stdout",
     "text": "Cross-validation (accuracy) [0.70740033 0.8345495  0.79020388 0.70663952 0.72483558]\n"
    }
   ],
   "source": [
    "from sklearn.model_selection import cross_val_score\n",
    "# accuracy is the default scoring metric\n",
    "print('Cross-validation (accuracy)', cross_val_score(clf, X_train, y_train, cv=5))"
   ]
  },
  {
   "cell_type": "code",
   "execution_count": null,
   "metadata": {},
   "outputs": [],
   "source": []
  }
 ],
 "metadata": {
  "language_info": {
   "codemirror_mode": {
    "name": "ipython",
    "version": 3
   },
   "file_extension": ".py",
   "mimetype": "text/x-python",
   "name": "python",
   "nbconvert_exporter": "python",
   "pygments_lexer": "ipython3",
   "version": "3.7.6-final"
  },
  "orig_nbformat": 2,
  "kernelspec": {
   "name": "python3",
   "display_name": "Python 3"
  }
 },
 "nbformat": 4,
 "nbformat_minor": 2
}