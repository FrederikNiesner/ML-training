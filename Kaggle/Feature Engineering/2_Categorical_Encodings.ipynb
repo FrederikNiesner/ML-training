{
 "cells": [
  {
   "cell_type": "markdown",
   "metadata": {},
   "source": [
    "## Introduction\n",
    "\n",
    "In this exercise you'll apply more advanced encodings to encode the categorical variables ito improve your classifier model. The encodings you will implement are:\n",
    "\n",
    "- Count Encoding\n",
    "- Target Encoding\n",
    "- Leave-one-out Encoding\n",
    "- CatBoost Encoding\n",
    "- Feature embedding with SVD\n",
    "\n",
    "You'll refit the classifier after each encoding to check its performance on hold-out data. First, run the next cell to repeat the work you did in the last exercise."
   ]
  },
  {
   "cell_type": "code",
   "execution_count": 6,
   "metadata": {},
   "outputs": [],
   "source": [
    "import numpy as np\n",
    "import pandas as pd\n",
    "from sklearn import preprocessing, metrics\n",
    "import lightgbm as lgb\n",
    "\n",
    "clicks = pd.read_parquet('/Users/niesner/Google Drive/University/Machine Learning/Kaggle/Datasets/228068_567626_bundle_archive/baseline_data.pqt')"
   ]
  },
  {
   "cell_type": "code",
   "execution_count": 7,
   "metadata": {},
   "outputs": [
    {
     "output_type": "execute_result",
     "data": {
      "text/plain": "       ip  app  device  os  channel          click_time      attributed_time  \\\n0   27226    3       1  13      120 2017-11-06 15:13:23                 None   \n1  110007   35       1  13       10 2017-11-06 15:41:07  2017-11-07 08:17:19   \n2    1047    6       1  13      157 2017-11-06 15:42:32                 None   \n3   76270    3       1  13      120 2017-11-06 15:56:17                 None   \n4   57862    3       1  13      120 2017-11-06 15:57:01                 None   \n\n   is_attributed  day  hour  minute  second  \n0              0    6    15      13      23  \n1              1    6    15      41       7  \n2              0    6    15      42      32  \n3              0    6    15      56      17  \n4              0    6    15      57       1  ",
      "text/html": "<div>\n<style scoped>\n    .dataframe tbody tr th:only-of-type {\n        vertical-align: middle;\n    }\n\n    .dataframe tbody tr th {\n        vertical-align: top;\n    }\n\n    .dataframe thead th {\n        text-align: right;\n    }\n</style>\n<table border=\"1\" class=\"dataframe\">\n  <thead>\n    <tr style=\"text-align: right;\">\n      <th></th>\n      <th>ip</th>\n      <th>app</th>\n      <th>device</th>\n      <th>os</th>\n      <th>channel</th>\n      <th>click_time</th>\n      <th>attributed_time</th>\n      <th>is_attributed</th>\n      <th>day</th>\n      <th>hour</th>\n      <th>minute</th>\n      <th>second</th>\n    </tr>\n  </thead>\n  <tbody>\n    <tr>\n      <th>0</th>\n      <td>27226</td>\n      <td>3</td>\n      <td>1</td>\n      <td>13</td>\n      <td>120</td>\n      <td>2017-11-06 15:13:23</td>\n      <td>None</td>\n      <td>0</td>\n      <td>6</td>\n      <td>15</td>\n      <td>13</td>\n      <td>23</td>\n    </tr>\n    <tr>\n      <th>1</th>\n      <td>110007</td>\n      <td>35</td>\n      <td>1</td>\n      <td>13</td>\n      <td>10</td>\n      <td>2017-11-06 15:41:07</td>\n      <td>2017-11-07 08:17:19</td>\n      <td>1</td>\n      <td>6</td>\n      <td>15</td>\n      <td>41</td>\n      <td>7</td>\n    </tr>\n    <tr>\n      <th>2</th>\n      <td>1047</td>\n      <td>6</td>\n      <td>1</td>\n      <td>13</td>\n      <td>157</td>\n      <td>2017-11-06 15:42:32</td>\n      <td>None</td>\n      <td>0</td>\n      <td>6</td>\n      <td>15</td>\n      <td>42</td>\n      <td>32</td>\n    </tr>\n    <tr>\n      <th>3</th>\n      <td>76270</td>\n      <td>3</td>\n      <td>1</td>\n      <td>13</td>\n      <td>120</td>\n      <td>2017-11-06 15:56:17</td>\n      <td>None</td>\n      <td>0</td>\n      <td>6</td>\n      <td>15</td>\n      <td>56</td>\n      <td>17</td>\n    </tr>\n    <tr>\n      <th>4</th>\n      <td>57862</td>\n      <td>3</td>\n      <td>1</td>\n      <td>13</td>\n      <td>120</td>\n      <td>2017-11-06 15:57:01</td>\n      <td>None</td>\n      <td>0</td>\n      <td>6</td>\n      <td>15</td>\n      <td>57</td>\n      <td>1</td>\n    </tr>\n  </tbody>\n</table>\n</div>"
     },
     "metadata": {},
     "execution_count": 7
    }
   ],
   "source": [
    "clicks.head(5)"
   ]
  },
  {
   "cell_type": "code",
   "execution_count": 8,
   "metadata": {},
   "outputs": [],
   "source": [
    "# Here I'll define a couple functions to help test the new encodings.\n",
    "\n",
    "def get_data_splits(dataframe, valid_fraction=0.1):\n",
    "    \"\"\" Splits a dataframe into train, validation, and test sets. First, orders by \n",
    "        the column 'click_time'. Set the size of the validation and test sets with\n",
    "        the valid_fraction keyword argument.\n",
    "    \"\"\"\n",
    "\n",
    "    dataframe = dataframe.sort_values('click_time')\n",
    "    valid_rows = int(len(dataframe) * valid_fraction)\n",
    "    train = dataframe[:-valid_rows * 2]\n",
    "    # valid size == test size, last two sections of the data\n",
    "    valid = dataframe[-valid_rows * 2:-valid_rows]\n",
    "    test = dataframe[-valid_rows:]\n",
    "    \n",
    "    return train, valid, test\n",
    "\n",
    "def train_model(train, valid, test=None, feature_cols=None):\n",
    "    if feature_cols is None:\n",
    "        feature_cols = train.columns.drop(['click_time', 'attributed_time',\n",
    "                                           'is_attributed'])\n",
    "    dtrain = lgb.Dataset(train[feature_cols], label=train['is_attributed'])\n",
    "    dvalid = lgb.Dataset(valid[feature_cols], label=valid['is_attributed'])\n",
    "    \n",
    "    param = {'num_leaves': 64, 'objective': 'binary', \n",
    "             'metric': 'auc', 'seed': 7}\n",
    "    num_round = 1000\n",
    "    print(\"Training model!\")\n",
    "    bst = lgb.train(param, dtrain, num_round, valid_sets=[dvalid], \n",
    "                    early_stopping_rounds=20, verbose_eval=False)\n",
    "    \n",
    "    valid_pred = bst.predict(valid[feature_cols])\n",
    "    valid_score = metrics.roc_auc_score(valid['is_attributed'], valid_pred)\n",
    "    print(f\"Validation AUC score: {valid_score}\")\n",
    "    \n",
    "    if test is not None: \n",
    "        test_pred = bst.predict(test[feature_cols])\n",
    "        test_score = metrics.roc_auc_score(test['is_attributed'], test_pred)\n",
    "        return bst, valid_score, test_score\n",
    "    else:\n",
    "        return bst, valid_score"
   ]
  },
  {
   "cell_type": "code",
   "execution_count": 10,
   "metadata": {
    "tags": []
   },
   "outputs": [
    {
     "output_type": "stream",
     "name": "stdout",
     "text": "Baseline model\nTraining model!\nValidation AUC score: 0.9622743228943659\n"
    }
   ],
   "source": [
    "print(\"Baseline model\")\n",
    "train, valid, test = get_data_splits(clicks)\n",
    "_ = train_model(train, valid)"
   ]
  },
  {
   "cell_type": "code",
   "execution_count": null,
   "metadata": {},
   "outputs": [],
   "source": []
  }
 ],
 "metadata": {
  "language_info": {
   "codemirror_mode": {
    "name": "ipython",
    "version": 3
   },
   "file_extension": ".py",
   "mimetype": "text/x-python",
   "name": "python",
   "nbconvert_exporter": "python",
   "pygments_lexer": "ipython3",
   "version": "3.7.6-final"
  },
  "orig_nbformat": 2,
  "kernelspec": {
   "name": "python3",
   "display_name": "Python 3"
  }
 },
 "nbformat": 4,
 "nbformat_minor": 2
}